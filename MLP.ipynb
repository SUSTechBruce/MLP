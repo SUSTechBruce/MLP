{
 "cells": [
  {
   "cell_type": "markdown",
   "metadata": {},
   "source": [
    "## MLP\n",
    "**Multi-Layer Perceptron** - каноничный вид искусственных нейронных сетей *прямого распространения*. Включает в себя один или более *скрытых полносвязных слоев*. В данном Jupyer-notebook представленная реализация MLP для решения задачи *многоклассовой классификации*."
   ]
  },
  {
   "cell_type": "markdown",
   "metadata": {},
   "source": [
    "#### Библиотеки\n",
    "В первую очередь используется математическая библиотека NumPy, а также sklearn для загрузки датасетов и случайной перетасовки данных."
   ]
  },
  {
   "cell_type": "code",
   "execution_count": 1,
   "metadata": {
    "collapsed": true
   },
   "outputs": [],
   "source": [
    "import numpy as np\n",
    "from sklearn.utils import shuffle"
   ]
  },
  {
   "cell_type": "code",
   "execution_count": 2,
   "metadata": {
    "collapsed": true
   },
   "outputs": [],
   "source": [
    "import sklearn.datasets \n",
    "import sklearn.linear_model \n",
    "import matplotlib.pyplot as plt"
   ]
  },
  {
   "cell_type": "code",
   "execution_count": 3,
   "metadata": {
    "collapsed": true
   },
   "outputs": [],
   "source": [
    "#random seed, which's used in several funcs by default\n",
    "seed = 42"
   ]
  },
  {
   "cell_type": "markdown",
   "metadata": {},
   "source": [
    "#### Инициализация весов\n",
    "Беря в расчет специфику функций активации и работу сети - веса должны быть случайно распределны в небольшой области нуля.\n",
    "В данной реализации используется [*Xavier-подобная инициализация*](http://andyljones.tumblr.com/post/110998971763/an-explanation-of-xavier-initialization)"
   ]
  },
  {
   "cell_type": "code",
   "execution_count": 4,
   "metadata": {
    "collapsed": true
   },
   "outputs": [],
   "source": [
    "def initialize_weights(mat_shape):\n",
    "    np.random.seed(seed)    \n",
    "    res = np.random.randn(*mat_shape)*np.sqrt(2 / (mat_shape[0] + mat_shape[1]))\n",
    "    return res"
   ]
  },
  {
   "cell_type": "code",
   "execution_count": 5,
   "metadata": {
    "scrolled": true
   },
   "outputs": [
    {
     "name": "stdout",
     "output_type": "stream",
     "text": [
      "[[ 0.24835708 -0.06913215  0.32384427  0.76151493 -0.11707669]\n",
      " [-0.11706848  0.78960641  0.38371736 -0.23473719  0.27128002]\n",
      " [-0.23170885 -0.23286488  0.12098114 -0.95664012 -0.86245892]]\n"
     ]
    }
   ],
   "source": [
    "print(initialize_weights((3,5)))"
   ]
  },
  {
   "cell_type": "markdown",
   "metadata": {},
   "source": [
    "#### Деление на обучающую и валидационную выборки\n",
    "Для проведения оценки работы сети, необходимо поделить генеральную выборку, предварительно перемешав примеры."
   ]
  },
  {
   "cell_type": "markdown",
   "metadata": {},
   "source": [
    "**_Важно:_** в данном коде используется нотация, в которой выборка подается на вход сети в формате **(m x n)**, где m - число примеров в выборке, n - число признаков."
   ]
  },
  {
   "cell_type": "code",
   "execution_count": 6,
   "metadata": {
    "collapsed": true
   },
   "outputs": [],
   "source": [
    "def __train_test_split__(data, ratio, random_seed):\n",
    "    #this func is auxiliary\n",
    "    dset = shuffle(data, random_state = random_seed)\n",
    "    return (dset[:int(len(dset) * ratio)], dset[int(len(dset) * ratio):])"
   ]
  },
  {
   "cell_type": "code",
   "execution_count": 7,
   "metadata": {
    "collapsed": true
   },
   "outputs": [],
   "source": [
    "def train_test_split(X, y, ratio = 0.8, random_seed = seed):\n",
    "    #X, y - numpy array\n",
    "    #input data should be in format m x n, where m is the number of samples for X,\n",
    "    #n is the number of features and (m, ) for y\n",
    "    assert len(X) == len(y), 'lengths of arrays are not the same'\n",
    "    TrainX, TestX = __train_test_split__(X, ratio, random_seed)\n",
    "    TrainY, TestY = __train_test_split__(y, ratio, random_seed)\n",
    "    #converts 1D-array to 2D-array\n",
    "    if len(TestY.shape) == 1:\n",
    "        TestY = TestY[:,np.newaxis]\n",
    "        TrainY = TrainY[:,np.newaxis]\n",
    "    return (TrainX, TrainY, TestX, TestY)"
   ]
  },
  {
   "cell_type": "code",
   "execution_count": 8,
   "metadata": {
    "scrolled": false
   },
   "outputs": [
    {
     "name": "stdout",
     "output_type": "stream",
     "text": [
      "(array([[ 3,  4,  5],\n",
      "       [12, 13, 14],\n",
      "       [ 6,  7,  8],\n",
      "       [ 0,  1,  2]]), array([[1],\n",
      "       [4],\n",
      "       [2],\n",
      "       [0]]), array([[ 9, 10, 11]]), array([[3]]))\n"
     ]
    }
   ],
   "source": [
    "print(train_test_split(np.array(range(15)).reshape((5,3)),np.array(range(5)).reshape((5,))))"
   ]
  },
  {
   "cell_type": "markdown",
   "metadata": {},
   "source": [
    "#### Минибатчи\n",
    "Данная реализация обучения сети поддерживает работу с минибатчами данных, что является обобщенным вариантом *Градиентного спуска* и *Стохастического градиентного спуска*. Для этих случаев сделайте размер mbatchsize равным *размеру выборки* и *1* - соответсвенно. Во время работы алгоритма данные *транспонируются*."
   ]
  },
  {
   "cell_type": "code",
   "execution_count": 9,
   "metadata": {
    "collapsed": true
   },
   "outputs": [],
   "source": [
    "def minibatch_list(dataX, labelsY, mbatchsize = 32):\n",
    "    #input data should be in format m x n, where m is the number of samples\n",
    "    #and n is the number of features, y is m x 1\n",
    "    #output data is in the format n x batchsize (transposed) in list\n",
    "    assert dataX.shape[0] == labelsY.shape[0]\n",
    "    \n",
    "    data, labels = shuffle(dataX, labelsY)\n",
    "    fulls = data.shape[0] // mbatchsize\n",
    "    resX = []\n",
    "    resY = []\n",
    "    for i in range(fulls):\n",
    "        resX.append(np.transpose(data[i * mbatchsize:(i+1) * mbatchsize]))\n",
    "        resY.append(np.transpose(labels[i * mbatchsize:(i+1) * mbatchsize]))\n",
    "    if data.shape[0] % mbatchsize != 0:\n",
    "        resX.append(np.transpose(data[fulls*mbatchsize:]))\n",
    "        resY.append(np.transpose(labels[fulls*mbatchsize:]))\n",
    "    return (resX , resY)"
   ]
  },
  {
   "cell_type": "code",
   "execution_count": 10,
   "metadata": {
    "scrolled": false
   },
   "outputs": [
    {
     "name": "stdout",
     "output_type": "stream",
     "text": [
      "[array([[ 0,  9],\n",
      "       [ 1, 10],\n",
      "       [ 2, 11]]), array([[ 3, 12],\n",
      "       [ 4, 13],\n",
      "       [ 5, 14]]), array([[6],\n",
      "       [7],\n",
      "       [8]])] (3, 2)\n",
      "[array([[0, 3]]), array([[1, 4]]), array([[2]])] (1, 2)\n"
     ]
    }
   ],
   "source": [
    "x, y = minibatch_list(np.array(range(15)).reshape((5,3)), np.array(range(5)).reshape((5,1)), mbatchsize=2)\n",
    "print(x, x[0].shape)\n",
    "print(y, y[0].shape)"
   ]
  },
  {
   "cell_type": "markdown",
   "metadata": {},
   "source": [
    "### Функции активации"
   ]
  },
  {
   "cell_type": "markdown",
   "metadata": {},
   "source": [
    "#### Сигмоида\n",
    "В [старых источниках](https://books.google.ru/books/about/%D0%9D%D0%B5%D0%B9%D1%80%D0%BE%D0%BD%D0%BD%D1%8B%D0%B5_%D1%81%D0%B5%D1%82%D0%B8_%D0%BF%D0%BE%D0%BB%D0%BD%D1%8B%D0%B9.html?hl=ru&id=LPMr0iA0muwC \"Саймон Хайкин\") можно найти так называемые *\"сигмоидальные функции\"*, к которым относятся такие популярные функции активации как *гиперболический тангенс* и *логистическая функция*(от которой подшло название *логистической регрессии*). Однако в более современных источниках все обозначают *\"сигмоидой\"* именно логистическую функцию. Её упрощённый вариант(без параметров) представлен ниже:"
   ]
  },
  {
   "cell_type": "markdown",
   "metadata": {},
   "source": [
    "\\begin{align}\n",
    "\\ \\sigma(y) = \\frac{1}{1 - e^{-y}} \\\\\n",
    "\\end{align}\n",
    "где *y* - может быть и вектором и скаляром"
   ]
  },
  {
   "cell_type": "code",
   "execution_count": 11,
   "metadata": {
    "collapsed": true
   },
   "outputs": [],
   "source": [
    "def sigmoid(X):\n",
    "    return 1 / (1 + np.exp(-X))"
   ]
  },
  {
   "cell_type": "markdown",
   "metadata": {},
   "source": [
    "Также нам потребуется производная этой функции"
   ]
  },
  {
   "cell_type": "code",
   "execution_count": 12,
   "metadata": {
    "collapsed": true
   },
   "outputs": [],
   "source": [
    "def sigmoid_der(X):\n",
    "    return sigmoid(X) * (1 - sigmoid(X))"
   ]
  },
  {
   "cell_type": "code",
   "execution_count": 13,
   "metadata": {
    "scrolled": true
   },
   "outputs": [
    {
     "name": "stdout",
     "output_type": "stream",
     "text": [
      "[[0.5        0.52497919 0.549834  ]\n",
      " [0.57444252 0.59868766 0.62245933]\n",
      " [0.64565631 0.66818777 0.68997448]\n",
      " [0.7109495  0.73105858 0.75026011]\n",
      " [0.76852478 0.78583498 0.80218389]]\n",
      "[[0.25       0.24937604 0.24751657]\n",
      " [0.24445831 0.24026075 0.23500371]\n",
      " [0.22878424 0.22171287 0.2139097 ]\n",
      " [0.20550031 0.19661193 0.18736988]\n",
      " [0.17789444 0.16829836 0.1586849 ]]\n"
     ]
    }
   ],
   "source": [
    "print(sigmoid(np.array(range(15)).reshape((5,3))*0.1))\n",
    "print(sigmoid_der(np.array(range(15)).reshape((5,3))*0.1))"
   ]
  },
  {
   "cell_type": "markdown",
   "metadata": {},
   "source": [
    "#### ReLU\n",
    "Rectified Linear Unit - одна из наиболее пополярных функций активации\n",
    "\n",
    "\\begin{align}\n",
    "\\ ReLU(y) = \\max(0,y) \\\\\n",
    "\\end{align}"
   ]
  },
  {
   "cell_type": "code",
   "execution_count": 14,
   "metadata": {
    "collapsed": true
   },
   "outputs": [],
   "source": [
    "def relu(X):\n",
    "    return X * (X > 0.)"
   ]
  },
  {
   "cell_type": "markdown",
   "metadata": {},
   "source": [
    "Также нам потребуется производная этой функции"
   ]
  },
  {
   "cell_type": "code",
   "execution_count": 15,
   "metadata": {
    "collapsed": true
   },
   "outputs": [],
   "source": [
    "def relu_der(X):\n",
    "    return (X > 0.)*1."
   ]
  },
  {
   "cell_type": "code",
   "execution_count": 16,
   "metadata": {
    "scrolled": false
   },
   "outputs": [
    {
     "name": "stdout",
     "output_type": "stream",
     "text": [
      "[[0.  0.1 0.2]\n",
      " [0.3 0.4 0.5]\n",
      " [0.6 0.7 0.8]\n",
      " [0.9 1.  1.1]\n",
      " [1.2 1.3 1.4]]\n",
      "[[0. 1. 1.]\n",
      " [1. 1. 1.]\n",
      " [1. 1. 1.]\n",
      " [1. 1. 1.]\n",
      " [1. 1. 1.]]\n"
     ]
    }
   ],
   "source": [
    "print(relu(np.array(range(15)).reshape((5,3))*0.1))\n",
    "print(relu_der(np.array(range(15)).reshape((5,3))*0.1))"
   ]
  },
  {
   "cell_type": "markdown",
   "metadata": {},
   "source": [
    "### One-hot encoding\n",
    "[Популярный способ закодировать](https://machinelearningmastery.com/why-one-hot-encode-data-in-machine-learning/) некоторый набор классов в *sparse-vector*, где для каждой сущности выбирается индекс в массиве и ставится 1, если этот пример соотвествует этой сущности.\n",
    "\n",
    "**_Важно:_** для бинарной классификации достаточно и обычного представления в виде серии 0 и 1, размерности m x 1, кроме случаев *классификации с отклонением*"
   ]
  },
  {
   "cell_type": "code",
   "execution_count": 17,
   "metadata": {
    "collapsed": true
   },
   "outputs": [],
   "source": [
    "def make_onehot(array, num_classes):\n",
    "    #input array should be (m x 1) or (m, )\n",
    "    if len(array.shape) > 1:\n",
    "        array = array.reshape(len(array),)\n",
    "    b = np.zeros((len(array), num_classes), dtype=np.int)\n",
    "    b[np.arange(len(array)), array] = 1\n",
    "    return b"
   ]
  },
  {
   "cell_type": "code",
   "execution_count": 18,
   "metadata": {
    "scrolled": true
   },
   "outputs": [
    {
     "name": "stdout",
     "output_type": "stream",
     "text": [
      "[[0 1 0 0]\n",
      " [1 0 0 0]\n",
      " [0 0 0 1]\n",
      " [0 0 1 0]\n",
      " [0 1 0 0]\n",
      " [1 0 0 0]]\n"
     ]
    }
   ],
   "source": [
    "print(make_onehot(np.array([1,0,3,2,1,0]).reshape(6,1), 4))"
   ]
  },
  {
   "cell_type": "code",
   "execution_count": 19,
   "metadata": {
    "scrolled": true
   },
   "outputs": [
    {
     "name": "stdout",
     "output_type": "stream",
     "text": [
      "[[0 1 0 0]\n",
      " [1 0 0 0]\n",
      " [0 0 0 1]\n",
      " [0 0 1 0]\n",
      " [0 1 0 0]\n",
      " [1 0 0 0]]\n"
     ]
    }
   ],
   "source": [
    "print(make_onehot(np.array([1,0,3,2,1,0]).reshape(6,), 4))"
   ]
  },
  {
   "cell_type": "markdown",
   "metadata": {},
   "source": [
    "### Функция потерь\n",
    "Для обучения сети, необходимо определить *функцию потерь*, которую мы будем оптимизировать.\n",
    "В иностранный литературе встречается два похожих определения - *Loss function* и *Cost function*. Где Cost - сумма всех потерь за батч, разделенная на число примеров. В данной реализации вычисляется именно \"Cost\", но в соотвествии с общепринятой нотацией обозначается как \"loss\". В это же время производная этой функции вычисляется в векторном виде, т.е. сразу по *оценке y*. Также отметим, что *cross-entropy log loss, binary log loss, log loss* в случае с *бинарной* классификацией, означают одно и то же.\n",
    "\n",
    "Для задачи *много-классовой классификации* вводится суммирование по *c* - числу классов. **_Важно:_** когда вы используете бинарную классификацию, убедитесь, что массив labels имеет размерность 1 x m, не ( , m)"
   ]
  },
  {
   "cell_type": "markdown",
   "metadata": {},
   "source": [
    "\\begin{align}\n",
    "\\ Binary~Cost(y, \\hat{y}) = - \\frac{1}{m} \\sum_{i=1}^m y \\cdot log( \\hat{y}) + (1 - y) \\cdot log(1- \\hat{y})\\\\\n",
    "\\end{align}"
   ]
  },
  {
   "cell_type": "markdown",
   "metadata": {},
   "source": [
    "\\begin{align}\n",
    "\\ MultiClass~Cost(y, \\hat{y}) = - \\frac{1}{m} \\sum_{i=1}^m \\frac{1}{c} \\sum_{j=1}^c y \\cdot log( \\hat{y}) + (1 - y) \\cdot log(1- \\hat{y})\\\\\n",
    "\\end{align}"
   ]
  },
  {
   "cell_type": "code",
   "execution_count": 20,
   "metadata": {
    "collapsed": true
   },
   "outputs": [],
   "source": [
    "def cross_entropy_log_loss(output, labels, epsilon = 1e-9):\n",
    "    #output is c * m, so and labels is c * m\n",
    "    #result is cross-entropy log-loss, 1 * 1\n",
    "    assert output.shape == labels.shape, 'Shapes do not match'\n",
    "    #to avoid log of 0\n",
    "    eps = np.zeros(labels.shape) + epsilon\n",
    "    y = np.maximum(eps, np.minimum(1 - eps, output))\n",
    "    return -np.sum((labels * np.log(y) + (1 - labels) * np.log(1 - y))) / labels.shape[1] / labels.shape[0]"
   ]
  },
  {
   "cell_type": "code",
   "execution_count": 21,
   "metadata": {},
   "outputs": [
    {
     "data": {
      "text/plain": [
       "0.9989776916432564"
      ]
     },
     "execution_count": 21,
     "metadata": {},
     "output_type": "execute_result"
    }
   ],
   "source": [
    "dummyL = make_onehot(np.array([1,0,3,2,1,0]).reshape(6,1), 4)\n",
    "dummyY = (make_onehot(np.array([1,0,3,2,1,1]).reshape(6,1), 4))* 0.95\n",
    "cross_entropy_log_loss(dummyY, dummyL)"
   ]
  },
  {
   "cell_type": "code",
   "execution_count": 22,
   "metadata": {
    "collapsed": true
   },
   "outputs": [],
   "source": [
    "def cross_entropy_log_loss_der(output, labels, epsilon = 1e-9):\n",
    "    assert output.shape == labels.shape, 'First dim is not 1'\n",
    "    #to avoid log of 0\n",
    "    eps = np.zeros(labels.shape) + epsilon\n",
    "    y = np.maximum(eps, np.minimum(1 - eps, output))\n",
    "    return - labels / y + (1 - labels) / (1 - y)"
   ]
  },
  {
   "cell_type": "code",
   "execution_count": 23,
   "metadata": {
    "scrolled": true
   },
   "outputs": [
    {
     "data": {
      "text/plain": [
       "array([[ 1.00000000e+00, -1.05263158e+00,  1.00000000e+00,\n",
       "         1.00000000e+00],\n",
       "       [-1.05263158e+00,  1.00000000e+00,  1.00000000e+00,\n",
       "         1.00000000e+00],\n",
       "       [ 1.00000000e+00,  1.00000000e+00,  1.00000000e+00,\n",
       "        -1.05263158e+00],\n",
       "       [ 1.00000000e+00,  1.00000000e+00, -1.05263158e+00,\n",
       "         1.00000000e+00],\n",
       "       [ 1.00000000e+00, -1.05263158e+00,  1.00000000e+00,\n",
       "         1.00000000e+00],\n",
       "       [-1.00000000e+09,  2.00000000e+01,  1.00000000e+00,\n",
       "         1.00000000e+00]])"
      ]
     },
     "execution_count": 23,
     "metadata": {},
     "output_type": "execute_result"
    }
   ],
   "source": [
    "cross_entropy_log_loss_der(dummyY, dummyL)"
   ]
  },
  {
   "cell_type": "markdown",
   "metadata": {},
   "source": [
    "### Слой сети\n",
    "В нашей сети можно будет задавать произвольное число своев произвольного размера. Для упрощения работы с кодом, инкапсулируем методы связанные с одним слоев в класс *\"Layer\"*.\n",
    "При инициализации класса необходимо задать число нейронов на предыдущем слое и текущем, а также функцию активации (по умолчанию - сигмоида).\n",
    "\n",
    "*Метод forward* производит прямой прогон слоя, т.е. активирует нейроны слоя. При этом вычисляются следующие значения и производятся следующие операции:"
   ]
  },
  {
   "cell_type": "markdown",
   "metadata": {},
   "source": [
    "*m* - число примеров\n",
    "\n",
    "*n* - число нейронов на предыдущем слое\n",
    "\n",
    "*l* - число нейронов в этом слое\n",
    "\n",
    "\\begin{align}\n",
    "\\ Z_{l , m} = W_{l , n} \\cdot X_{n , m} + b_{l, 1} \\\\\n",
    "\\ A_{l , m} = Activation( Z_{l , m} ) \\\\\n",
    "\\end{align}"
   ]
  },
  {
   "cell_type": "markdown",
   "metadata": {},
   "source": [
    "*Метод backward* вычисляет (но не применяет) градиент данного слоя.\n",
    "\n",
    "\\begin{align}\n",
    "\\ dW = dZ \\cdot X^{T} \\\\\n",
    "\\ dX = W^{T} \\cdot dZ \\\\\n",
    "\\end{align}"
   ]
  },
  {
   "cell_type": "code",
   "execution_count": 24,
   "metadata": {
    "collapsed": true
   },
   "outputs": [],
   "source": [
    "class Layer:\n",
    "    def __init__(self, input_size, output_size, activation='sigm'):\n",
    "        self.W = initialize_weights((output_size, input_size))\n",
    "        self.b = np.zeros((output_size, 1))\n",
    "        self.Wgrad = np.zeros((output_size, input_size))\n",
    "        self.bgrad = np.zeros((output_size, 1))\n",
    "        self.Z = None\n",
    "        self.X = None\n",
    "        \n",
    "        if activation == 'sigm':\n",
    "            self.activation_func = sigmoid\n",
    "            self.activation_func_der = sigmoid_der\n",
    "        elif activation == 'relu':\n",
    "            self.activation_func = relu\n",
    "            self.activation_func_der = relu_der\n",
    "        else:\n",
    "            raise Exception('unknown func {}, try sigm or relu'.format(activation))\n",
    "    \n",
    "    def forward(self, data):\n",
    "        #data should be in format n x m, where m - is num of examples, n - features\n",
    "        assert data.shape[0] == self.W.shape[1], 'data dimension does not match'\n",
    "        #this will be needed for gradient calc\n",
    "        self.Z = np.dot(self.W, data) + self.b\n",
    "        self.X = data\n",
    "        return self.activation_func(self.Z)\n",
    "    \n",
    "    def backward(self, grad):\n",
    "        assert grad.shape == self.Z.shape, 'gradient shape and Z do not match'\n",
    "        Zgrad = self.activation_func_der(self.Z) * grad\n",
    "        self.bgrad = np.sum(Zgrad, axis=-1, keepdims=True) #db = sum over axis=1\n",
    "        self.Wgrad = np.dot(Zgrad, np.transpose(self.X)) #dW = dZ*X^T\n",
    "        return np.dot(np.transpose(self.W),Zgrad) #dX = W^T*dZ"
   ]
  },
  {
   "cell_type": "code",
   "execution_count": 25,
   "metadata": {
    "scrolled": true
   },
   "outputs": [
    {
     "name": "stdout",
     "output_type": "stream",
     "text": [
      "(1, 10)\n",
      "(2, 10)\n",
      "[[0.   0.02 0.04 0.06 0.08 0.1  0.12 0.14 0.16 0.18]\n",
      " [0.2  0.22 0.24 0.26 0.28 0.3  0.32 0.34 0.36 0.38]]\n",
      "[[0.02849662 0.07349237]]\n",
      "[[0.22497876]]\n"
     ]
    }
   ],
   "source": [
    "dummy = np.array(range(20)).reshape((2,10))*0.02\n",
    "a = Layer(2,1,activation='sigm')\n",
    "print(a.forward(dummy).shape)\n",
    "dummygrad = np.array(range(10)).reshape((1,10))*0.02\n",
    "print(a.backward(dummygrad).shape)\n",
    "print(a.X)\n",
    "print(a.Wgrad)\n",
    "print(a.bgrad)"
   ]
  },
  {
   "cell_type": "markdown",
   "metadata": {},
   "source": [
    "### Метрика качества\n",
    "Существует много критериев оценки работы алгоритма, мы остановимся на \"точности\" - отношение числа верно указанных классов, ко всем примерам. Точность можно считать во время обучения, на валидационной выборке и на тестовой\n",
    "\\begin{align}\n",
    "\\ Accuracy = \\frac{\\sum^n _i [y _i=\\hat{y}_i]}{n} \\\\\n",
    "\\end{align}"
   ]
  },
  {
   "cell_type": "code",
   "execution_count": 26,
   "metadata": {
    "collapsed": true
   },
   "outputs": [],
   "source": [
    "def accuracy_metrics(y, labels):\n",
    "    assert len(y) == len(labels), 'length is not the same'\n",
    "    summ = 0\n",
    "    y = np.array(y)\n",
    "    labels = np.array(labels)\n",
    "    for i in range(len(y)):\n",
    "        if np.array_equal(y[i],labels[i]):\n",
    "            summ += 1\n",
    "    return summ / len(y)"
   ]
  },
  {
   "cell_type": "code",
   "execution_count": 27,
   "metadata": {
    "scrolled": true
   },
   "outputs": [
    {
     "name": "stdout",
     "output_type": "stream",
     "text": [
      "0.5\n"
     ]
    }
   ],
   "source": [
    "print(accuracy_metrics(make_onehot(np.array([1,0,3,2,1,0]).reshape(6,1), 4),\n",
    "                       make_onehot(np.array([0,1,3,2,0,0]).reshape(6,1), 4)))"
   ]
  },
  {
   "cell_type": "markdown",
   "metadata": {},
   "source": [
    "### Основной класс нейронной сети\n",
    "При инициализации сети необходимо задать число нейронов в каждом слое, число которых соответствует мощности массива, и соответствующие функции активации. Слои хранятся в массиве *layers*\n",
    "\n",
    "*Метод propagate forward* принимает на вход данные (n * m) и производит прямую прогонку сети, при этом каждый слой запоминает значения, вычисленные при прямом проходе, для дальнейшего вычисления градиента.\n",
    "\n",
    "*Метод propagate backward* выполняет обратный проход по сети, находя по очереди все градиенты для каждого слоя. На вход метод принимает посчитанное значение производной функции потерь\n",
    "\n",
    "*Метод update weights* изменяет веса нейронов слоев в соотвествии с оптимизирующим аглоритмом (Градиентный спуск)\n",
    "\n",
    "*Метод predict* использует выход метода *propagate forward* для *оценки класса (0 или 1)*\n",
    "\n",
    "*Метод fit* основной метод обучающий модель, последовательно выполняющий все операции, необходимые для обучения. Алгоритм имеет два критерия останова - по числу итераций и по размеру грудиента (если матричная норма получаемых градиентов меньше чем эпсилон, обучение прекращается). Эпоха - один прогон всей обучающей выборки, который в свою очередь включает один или несколько прогонов минибатчей. На каждой итерации вычислется выходное значение, потери, градент потерь, градиенты всех параметров. Затем градиенты применяются к параметрам."
   ]
  },
  {
   "cell_type": "markdown",
   "metadata": {},
   "source": [
    "Заимпортируем также метод *deepcopy* для создания полной копии объекта (используется для сохранения весов сети)"
   ]
  },
  {
   "cell_type": "code",
   "execution_count": 28,
   "metadata": {
    "collapsed": true
   },
   "outputs": [],
   "source": [
    "from copy import deepcopy"
   ]
  },
  {
   "cell_type": "code",
   "execution_count": 29,
   "metadata": {
    "collapsed": true
   },
   "outputs": [],
   "source": [
    "class MLP:\n",
    "    def __init__(self, input_size, layers, layers_activations):\n",
    "        assert len(layers) == len(layers_activations), 'num of layers and activations does not match'\n",
    "        self.layers = []\n",
    "        self.layers.append(Layer(input_size=input_size, output_size=layers[0], activation=layers_activations[0]))\n",
    "        for l in range(len(layers) - 1):\n",
    "            self.layers.append(Layer(input_size=layers[l], output_size=layers[l + 1], activation=layers_activations[l + 1]))\n",
    "    \n",
    "    def propagate_forward(self, data):\n",
    "        result = self.layers[0].forward(data)\n",
    "        for l in range(len(self.layers) - 1):\n",
    "            result = self.layers[l + 1].forward(result)\n",
    "        return result\n",
    "    \n",
    "    def propagate_backward(self, gradient):\n",
    "        grad = gradient\n",
    "        for l in reversed(self.layers):\n",
    "            grad = l.backward(grad)\n",
    "    \n",
    "    def update_weights(self, learning_rate, eps):\n",
    "        is_updated = False\n",
    "        for l in self.layers:\n",
    "            if (np.linalg.norm(l.Wgrad) / (l.Wgrad.shape[0] * l.Wgrad.shape[1]) > eps):\n",
    "                is_updated = True\n",
    "            l.W = l.W - l.Wgrad * learning_rate\n",
    "            l.b = l.b - l.bgrad * learning_rate\n",
    "        return is_updated\n",
    "    \n",
    "    def predict(self, inputX):\n",
    "        #support many data input types\n",
    "        X = np.array(inputX)\n",
    "        if len(X.shape) == 1:\n",
    "            X = X.reshape(X.shape[0], 1)\n",
    "        else:\n",
    "            X = np.transpose(X)\n",
    "        output = self.propagate_forward(X)\n",
    "        #case of binary classification\n",
    "        if output.shape[0] == 1:\n",
    "            return np.squeeze(np.round(output).astype(np.int))\n",
    "        return np.argmax(output, axis=0).astype(np.int)\n",
    "    \n",
    "    def fit(self, data, labels, validation=False, num_epochs = 100, eps = 0.01,\n",
    "            learning_rate = 0.1, minibatch_size = 32, visualize=False, val_data=[], val_labels=[]):\n",
    "        #input data should be in format m x n, where m is the number of samples\n",
    "        #and n is the number of features\n",
    "        if len(val_data) != 0:\n",
    "            valdata = val_data\n",
    "            vallabels = val_labels\n",
    "        else:\n",
    "            if validation:\n",
    "                data, labels, valdata, vallabels = train_test_split(data, labels, ratio = 0.8)\n",
    "        if visualize:\n",
    "            plt.plot([],[])\n",
    "            plt.ylim([0.,1.])\n",
    "        losses = []\n",
    "        vallosses = []\n",
    "        minimal_loss = 1e10\n",
    "        best_model = None\n",
    "        proceed = True\n",
    "        for i in range(num_epochs):\n",
    "            if not proceed:\n",
    "                break\n",
    "            mbatchlistX, mbatchlistY = minibatch_list(data, labels, mbatchsize=minibatch_size)\n",
    "            loss = 0.\n",
    "            for mbatchnum in range(len(mbatchlistY)):\n",
    "                prediction = self.propagate_forward(mbatchlistX[mbatchnum])\n",
    "                loss = cross_entropy_log_loss(prediction, mbatchlistY[mbatchnum])\n",
    "                loss_der = cross_entropy_log_loss_der(prediction, mbatchlistY[mbatchnum])\n",
    "                self.propagate_backward(loss_der)\n",
    "                proceed = self.update_weights(learning_rate=learning_rate, eps=eps)\n",
    "            if visualize:\n",
    "                if i % 500 == 0:\n",
    "                    print('loss on iteration {} = {}'.format(i, np.round(loss, 5)))\n",
    "                    accuracy_train = None\n",
    "                    accuracy_val = None\n",
    "                    if len(labels.shape) == 1:\n",
    "                        #binary-classification case\n",
    "                        accuracy_train = accuracy_metrics(self.predict(data), labels)\n",
    "                        if validation:\n",
    "                            accuracy_val = accuracy_metrics(self.predict(valdata), vallabels)\n",
    "                    else:\n",
    "                        accuracy_train = accuracy_metrics(make_onehot(self.predict(data), labels.shape[1]),labels)\n",
    "                        if validation:\n",
    "                            accuracy_val = accuracy_metrics(make_onehot(self.predict(valdata), labels.shape[1]),vallabels)\n",
    "                    print('Accuracy on train: {}%'.format(round(accuracy_train*100, 2)))\n",
    "                    if validation:\n",
    "                        print('Accuracy on val: {}%'.format(round(accuracy_val*100, 2)))\n",
    "                    print('-'*20) \n",
    "                losses.append(loss)\n",
    "                if validation:\n",
    "                    valpred = self.propagate_forward(np.transpose(valdata))\n",
    "                    val_loss = cross_entropy_log_loss(valpred, np.transpose(vallabels))\n",
    "                    vallosses.append(val_loss)\n",
    "                    if val_loss < minimal_loss:\n",
    "                        minimal_loss = val_loss\n",
    "                        best_model = deepcopy(self.layers)\n",
    "        if visualize:\n",
    "            train_loss, = plt.plot(losses, label=\"train\")\n",
    "            val_loss, = plt.plot(vallosses, label=\"val\")\n",
    "            plt.legend(handles=[train_loss, val_loss])\n",
    "            plt.show()\n",
    "        return best_model"
   ]
  },
  {
   "cell_type": "markdown",
   "metadata": {},
   "source": [
    "### Данные\n",
    "Для генерации обучающего множества воспользуемся уже упомянутым модулем библиотеки sklearn, а также разработанным модулем **datagen**"
   ]
  },
  {
   "cell_type": "code",
   "execution_count": 30,
   "metadata": {
    "collapsed": true,
    "scrolled": true
   },
   "outputs": [],
   "source": [
    "import datagen as dg"
   ]
  },
  {
   "cell_type": "markdown",
   "metadata": {},
   "source": [
    "Метод *generate data* генерирует num_examples размеченных по num_classes классов точек в num_features-мерном пространстве в среднем удаленных друг от друга на dist_ratio радиусов"
   ]
  },
  {
   "cell_type": "code",
   "execution_count": 111,
   "metadata": {
    "collapsed": true
   },
   "outputs": [],
   "source": [
    "num_classes = 10"
   ]
  },
  {
   "cell_type": "code",
   "execution_count": 112,
   "metadata": {
    "collapsed": true
   },
   "outputs": [],
   "source": [
    "X, y = dg.generate_data(num_classes, 3500, 2, False, 1.0)"
   ]
  },
  {
   "cell_type": "markdown",
   "metadata": {},
   "source": [
    "#### Нормирование\n",
    "Отнормируем данные. Это необходимо для более стабильной работы сети и не только. Например, логистическая регрессия вовсе не будет работать на немасштабированных данных. Для этого вычтем среднее по выборке и разделим на стандартное отклонение.\n",
    "\\begin{align}\n",
    "\\ Norm(X) = \\frac{X - \\mu (X)}{ \\sigma (X)} \\\\\n",
    "\\end{align}"
   ]
  },
  {
   "cell_type": "code",
   "execution_count": 113,
   "metadata": {
    "collapsed": true
   },
   "outputs": [],
   "source": [
    "def normalize_data(X):\n",
    "    return (X - np.mean(X)) / np.std(X)"
   ]
  },
  {
   "cell_type": "markdown",
   "metadata": {},
   "source": [
    "Обратим ваше внимание, что в этой реализации сети, при *многоклассовой классификации* необходимо заранее *закодировать метки классов в one-hot encoding*. При этом размерность массива должна быть (m x c), где - m - число примеров, c - число классов. В случае *бинарной* классификации эта операция не требуется, можно подавать массив в виде (m, ) (или 1D-array)"
   ]
  },
  {
   "cell_type": "code",
   "execution_count": 114,
   "metadata": {
    "collapsed": true
   },
   "outputs": [],
   "source": [
    "X = normalize_data(X)\n",
    "onehot = make_onehot(y, num_classes)"
   ]
  },
  {
   "cell_type": "code",
   "execution_count": 115,
   "metadata": {},
   "outputs": [
    {
     "data": {
      "text/plain": [
       "(3500, 10)"
      ]
     },
     "execution_count": 115,
     "metadata": {},
     "output_type": "execute_result"
    }
   ],
   "source": [
    "onehot.shape"
   ]
  },
  {
   "cell_type": "code",
   "execution_count": 116,
   "metadata": {},
   "outputs": [
    {
     "name": "stdout",
     "output_type": "stream",
     "text": [
      "1.0 -3.907985046680551e-17\n",
      "-2.341970033202782 1.8924137940196124\n"
     ]
    }
   ],
   "source": [
    "print(np.std(X), np.mean(X))\n",
    "print(np.min(X), np.max(X))"
   ]
  },
  {
   "cell_type": "markdown",
   "metadata": {},
   "source": [
    "Посмотрим на визуализацию данных (проекция по двум осям)"
   ]
  },
  {
   "cell_type": "code",
   "execution_count": 117,
   "metadata": {
    "scrolled": true
   },
   "outputs": [
    {
     "data": {
      "image/png": "[encoded data removed]",
      "text/plain": [
       "<matplotlib.figure.Figure at 0x113e33dd8>"
      ]
     },
     "metadata": {},
     "output_type": "display_data"
    }
   ],
   "source": [
    "plt.scatter(X[:,0], X[:,1], s=40, c=y, cmap=plt.cm.Spectral)\n",
    "plt.show()"
   ]
  },
  {
   "cell_type": "code",
   "execution_count": 118,
   "metadata": {
    "collapsed": true
   },
   "outputs": [],
   "source": [
    "#this cell contains nice dataset for binary classification \n",
    "#X, y = sklearn.datasets.make_moons(200, noise=0.20)"
   ]
  },
  {
   "cell_type": "markdown",
   "metadata": {},
   "source": [
    "Разобьем наши данные уже оговоренной функцией *train_test_split* в отношении 80 на 20"
   ]
  },
  {
   "cell_type": "code",
   "execution_count": 119,
   "metadata": {
    "collapsed": true
   },
   "outputs": [],
   "source": [
    "TrainX, TrainY, TestX, TestY = train_test_split(X, onehot, ratio=0.8, random_seed=140)"
   ]
  },
  {
   "cell_type": "code",
   "execution_count": 120,
   "metadata": {},
   "outputs": [
    {
     "data": {
      "text/plain": [
       "(2800, 2)"
      ]
     },
     "execution_count": 120,
     "metadata": {},
     "output_type": "execute_result"
    }
   ],
   "source": [
    "TrainX.shape"
   ]
  },
  {
   "cell_type": "markdown",
   "metadata": {},
   "source": [
    "Пришло время задать архитектуру сети. Будем использовать четырехслойную нейронную сеть (с двумя скрытыми слоями). Все активации нейронов - сигмоида."
   ]
  },
  {
   "cell_type": "code",
   "execution_count": 121,
   "metadata": {
    "collapsed": true
   },
   "outputs": [],
   "source": [
    "a = MLP(2, [10, 10, num_classes], ['sigm','sigm', 'sigm'])"
   ]
  },
  {
   "cell_type": "markdown",
   "metadata": {},
   "source": [
    "Осталось лишь запустить процесс обучения. При обучении можно выбрать отслеживание производительности (*точность*) на так-называемом validation set, т.е. на данных, не используемых в обучении сети. В конце обучения будет построен график функции потерь в зависимости от итерации"
   ]
  },
  {
   "cell_type": "code",
   "execution_count": 122,
   "metadata": {
    "scrolled": false
   },
   "outputs": [
    {
     "name": "stdout",
     "output_type": "stream",
     "text": [
      "loss on iteration 0 = 0.65884\n",
      "Accuracy on train: 9.64%\n",
      "Accuracy on val: 11.07%\n",
      "--------------------\n",
      "loss on iteration 500 = 0.10649\n",
      "Accuracy on train: 76.83%\n",
      "Accuracy on val: 78.21%\n",
      "--------------------\n",
      "loss on iteration 1000 = 0.04761\n",
      "Accuracy on train: 91.83%\n",
      "Accuracy on val: 92.32%\n",
      "--------------------\n",
      "loss on iteration 1500 = 0.03729\n",
      "Accuracy on train: 92.63%\n",
      "Accuracy on val: 92.32%\n",
      "--------------------\n",
      "loss on iteration 2000 = 0.03127\n",
      "Accuracy on train: 92.99%\n",
      "Accuracy on val: 92.86%\n",
      "--------------------\n",
      "loss on iteration 2500 = 0.02991\n",
      "Accuracy on train: 92.72%\n",
      "Accuracy on val: 93.21%\n",
      "--------------------\n"
     ]
    },
    {
     "data": {
      "image/png": "[encoded data removed]",
      "text/plain": [
       "<matplotlib.figure.Figure at 0x114bfd4a8>"
      ]
     },
     "metadata": {},
     "output_type": "display_data"
    },
    {
     "data": {
      "text/plain": [
       "[<__main__.Layer at 0x1149776a0>,\n",
       " <__main__.Layer at 0x1149777f0>,\n",
       " <__main__.Layer at 0x114977860>]"
      ]
     },
     "execution_count": 122,
     "metadata": {},
     "output_type": "execute_result"
    }
   ],
   "source": [
    "a.fit(TrainX,                                  # main data\n",
    "      TrainY,                                  # main labels\n",
    "      validation=True,                         # nip 20% of data for val-set\n",
    "      num_epochs=3000,                         # number of passes through the entire data set\n",
    "      minibatch_size = int(len(TrainX) * 0.8), # size of mini-batches == train without val\n",
    "      learning_rate=0.01,                      # GD learning rate\n",
    "      eps=0.001,                               # stop-criteria\n",
    "      visualize=True,                          # print performance details + graph\n",
    "     )"
   ]
  },
  {
   "cell_type": "markdown",
   "metadata": {},
   "source": [
    "**_Примечание:_** На графике возможно будут видны осцилляции (не путать со скачками при стохастическом/минибатчевом обучении) в виде жирных линий полос train/validation. Скорее всего, это связано с нестабильностью некоторых математических операций, т.к. эти скачки наблюдаются одновременно и у train и у val, хотя данные в этих случаях разные, а общий тренд обучения остается таким же."
   ]
  },
  {
   "cell_type": "code",
   "execution_count": 123,
   "metadata": {
    "scrolled": true
   },
   "outputs": [
    {
     "name": "stdout",
     "output_type": "stream",
     "text": [
      "Точность классификации на общей обучающей выборке - 93.04% !\n"
     ]
    }
   ],
   "source": [
    "pred = a.predict(TrainX)\n",
    "pred = make_onehot(pred, num_classes)\n",
    "print('Точность классификации на общей обучающей выборке - {}% !'.format(round(accuracy_metrics(pred, TrainY)*100,2)))"
   ]
  },
  {
   "cell_type": "code",
   "execution_count": 124,
   "metadata": {},
   "outputs": [
    {
     "name": "stdout",
     "output_type": "stream",
     "text": [
      "Точность классификации на тестовой выборке - 94.0% !\n"
     ]
    }
   ],
   "source": [
    "pred = a.predict(TestX)\n",
    "pred = make_onehot(pred, num_classes)\n",
    "print('Точность классификации на тестовой выборке - {}% !'.format(round(accuracy_metrics(pred, TestY)*100,2)))"
   ]
  },
  {
   "cell_type": "markdown",
   "metadata": {},
   "source": [
    "Вы могли заметить, что как второй критерий останова, испольузется порог нормы градиента весов. Посмотрим, чем они равны для каждого слоя после последней эпохи обучения"
   ]
  },
  {
   "cell_type": "code",
   "execution_count": 125,
   "metadata": {
    "scrolled": false
   },
   "outputs": [
    {
     "name": "stdout",
     "output_type": "stream",
     "text": [
      "2.395910832083133\n",
      "0.5872807413610743\n",
      "0.6409725661904411\n"
     ]
    }
   ],
   "source": [
    "for l in a.layers:\n",
    "    print(np.linalg.norm(l.Wgrad) / (l.Wgrad.shape[0] * l.Wgrad.shape[1]))"
   ]
  },
  {
   "cell_type": "markdown",
   "metadata": {},
   "source": [
    "### Decision-boundary graph\n",
    "После обучения модели бывает полезно посмотреть, как именно наш алгоритм научился разбивать плоскость на классы. Для этого стоят график границ решений, подавая на вход модели разные точки и раскрашивая плоскость в соответсвующие классам цвета."
   ]
  },
  {
   "cell_type": "markdown",
   "metadata": {},
   "source": [
    "Вспомогательная функция для постреония decision-boundary графика"
   ]
  },
  {
   "cell_type": "code",
   "execution_count": 126,
   "metadata": {
    "collapsed": true
   },
   "outputs": [],
   "source": [
    "def plot_decision_boundary(pred_func):\n",
    "    # Set min and max values and give it some padding\n",
    "    x_min, x_max = X[:, 0].min() - .5, X[:, 0].max() + .5\n",
    "    y_min, y_max = X[:, 1].min() - .5, X[:, 1].max() + .5\n",
    "    h = 0.01\n",
    "    # Generate a grid of points with distance h between them\n",
    "    xx, yy = np.meshgrid(np.arange(x_min, x_max, h), np.arange(y_min, y_max, h))\n",
    "    # Predict the function value for the whole gid\n",
    "    Z = pred_func(np.c_[xx.ravel(), yy.ravel()])\n",
    "    Z = Z.reshape(xx.shape)\n",
    "    # Plot the contour and training examples\n",
    "    plt.contourf(xx, yy, Z, cmap=plt.cm.Spectral)\n",
    "    plt.scatter(X[:, 0], X[:, 1], c=y, cmap=plt.cm.Spectral)"
   ]
  },
  {
   "cell_type": "markdown",
   "metadata": {},
   "source": [
    "Построим с помощью этой функции граф"
   ]
  },
  {
   "cell_type": "code",
   "execution_count": 127,
   "metadata": {
    "scrolled": true
   },
   "outputs": [
    {
     "data": {
      "image/png": "[encoded data removed]",
      "text/plain": [
       "<matplotlib.figure.Figure at 0x114967dd8>"
      ]
     },
     "metadata": {},
     "output_type": "display_data"
    }
   ],
   "source": [
    "plot_decision_boundary(lambda x: a.predict(x))\n",
    "plt.title(\"MLP\")\n",
    "plt.show()"
   ]
  },
  {
   "cell_type": "markdown",
   "metadata": {},
   "source": [
    "Для сравнения посмотрим как с задачей справилась [логистическая регрессия](https://www.coursera.org/learn/vvedenie-mashinnoe-obuchenie/lecture/8G3Xu/loghistichieskaia-rieghriessiia)"
   ]
  },
  {
   "cell_type": "code",
   "execution_count": 128,
   "metadata": {
    "scrolled": true
   },
   "outputs": [
    {
     "data": {
      "image/png": "[encoded data removed]",
      "text/plain": [
       "<matplotlib.figure.Figure at 0x11494db70>"
      ]
     },
     "metadata": {},
     "output_type": "display_data"
    }
   ],
   "source": [
    "# Train the logistic regression classifier\n",
    "clf = sklearn.linear_model.LogisticRegressionCV()\n",
    "clf.fit(X, y)\n",
    "# Plot the decision boundary (the method is in the main code link provided in the end)\n",
    "plot_decision_boundary(lambda x: clf.predict(x))\n",
    "plt.title(\"Logistic Regression\")\n",
    "plt.show()"
   ]
  },
  {
   "cell_type": "markdown",
   "metadata": {},
   "source": [
    "### Ирисы Фишера\n",
    "Протестируем работу сети на классическом датасете *\"Ирисы Фишера\"*. Для этого загрузим их, используя sklearn"
   ]
  },
  {
   "cell_type": "code",
   "execution_count": 135,
   "metadata": {
    "collapsed": true
   },
   "outputs": [],
   "source": [
    "X, y = sklearn.datasets.load_iris(return_X_y=True)\n",
    "X = normalize_data(X)\n",
    "onehot = make_onehot(y, 3)\n",
    "TrainX, TrainY, TestX, TestY = train_test_split(X, onehot, random_seed=55, ratio=0.8)"
   ]
  },
  {
   "cell_type": "code",
   "execution_count": 136,
   "metadata": {
    "scrolled": true
   },
   "outputs": [
    {
     "data": {
      "image/png": "[encoded data removed]",
      "text/plain": [
       "<matplotlib.figure.Figure at 0x114e4cf60>"
      ]
     },
     "metadata": {},
     "output_type": "display_data"
    }
   ],
   "source": [
    "plt.scatter(X[:,0], X[:,1], s=40, c=y, cmap=plt.cm.Spectral)\n",
    "plt.show()"
   ]
  },
  {
   "cell_type": "markdown",
   "metadata": {},
   "source": [
    "Воспользуемся такой особенностью данной реализации как сохранение весов модели, показавшей себя лучше всего на валидационной выборке, во время обучения. Для этого возвращаемые методом fit слои сохраним в переменную best_layers.    **Внимание:** Такой подбор параметров (по сути числа итераций) неизбежно приведет к переобучению на валидационную выборку. При использовании данной особенности обязательно проверьте качество на отдельной тестовой выборке."
   ]
  },
  {
   "cell_type": "markdown",
   "metadata": {},
   "source": [
    "**_Важно:_** В этот раз мы будем использовать для валидации не часть подаваемых данных (TrainX), а ту часть, что мы получили ранее (TestX). Таким образом у нас будет всего две выборки - Train и Test, без Validation. Для этого в качестве аргументов val_data и val_labels подадим TestX и testY"
   ]
  },
  {
   "cell_type": "code",
   "execution_count": 137,
   "metadata": {},
   "outputs": [
    {
     "name": "stdout",
     "output_type": "stream",
     "text": [
      "loss on iteration 0 = 0.70101\n",
      "Accuracy on train: 34.17%\n",
      "Accuracy on val: 30.0%\n",
      "--------------------\n",
      "loss on iteration 500 = 0.06098\n",
      "Accuracy on train: 96.67%\n",
      "Accuracy on val: 96.67%\n",
      "--------------------\n",
      "loss on iteration 1000 = 0.04287\n",
      "Accuracy on train: 99.17%\n",
      "Accuracy on val: 96.67%\n",
      "--------------------\n",
      "loss on iteration 1500 = 0.03856\n",
      "Accuracy on train: 99.17%\n",
      "Accuracy on val: 96.67%\n",
      "--------------------\n",
      "loss on iteration 2000 = 0.03651\n",
      "Accuracy on train: 99.17%\n",
      "Accuracy on val: 96.67%\n",
      "--------------------\n",
      "loss on iteration 2500 = 0.0352\n",
      "Accuracy on train: 99.17%\n",
      "Accuracy on val: 96.67%\n",
      "--------------------\n",
      "loss on iteration 3000 = 0.03424\n",
      "Accuracy on train: 99.17%\n",
      "Accuracy on val: 96.67%\n",
      "--------------------\n",
      "loss on iteration 3500 = 0.03348\n",
      "Accuracy on train: 99.17%\n",
      "Accuracy on val: 96.67%\n",
      "--------------------\n",
      "loss on iteration 4000 = 0.03287\n",
      "Accuracy on train: 99.17%\n",
      "Accuracy on val: 100.0%\n",
      "--------------------\n",
      "loss on iteration 4500 = 0.03235\n",
      "Accuracy on train: 99.17%\n",
      "Accuracy on val: 100.0%\n",
      "--------------------\n",
      "loss on iteration 5000 = 0.0319\n",
      "Accuracy on train: 99.17%\n",
      "Accuracy on val: 100.0%\n",
      "--------------------\n"
     ]
    },
    {
     "data": {
      "image/png": "[encoded data removed]",
      "text/plain": [
       "<matplotlib.figure.Figure at 0x114b8e2e8>"
      ]
     },
     "metadata": {},
     "output_type": "display_data"
    }
   ],
   "source": [
    "a = MLP(4, [8, 3], ['sigm', 'sigm'])\n",
    "best_model = deepcopy(a) # we'll use it later to assign weights of layers of the best model\n",
    "best_layers = a.fit(TrainX,\n",
    "                    TrainY,\n",
    "                    validation=True,\n",
    "                    num_epochs=5500,\n",
    "                    minibatch_size = len(TrainX), # now we won't nip anything\n",
    "                    learning_rate=0.005,\n",
    "                    eps=0.001,\n",
    "                    visualize=True,\n",
    "                    val_data = TestX, # replace nipped part from TrainX to TestX\n",
    "                    val_labels = TestY\n",
    "                   )\n",
    "best_model.layers = best_layers"
   ]
  },
  {
   "cell_type": "code",
   "execution_count": 138,
   "metadata": {
    "scrolled": true
   },
   "outputs": [
    {
     "name": "stdout",
     "output_type": "stream",
     "text": [
      "Точность классификации на общей обучающей выборке - 99.17% !\n"
     ]
    }
   ],
   "source": [
    "pred = best_model.predict(TrainX)\n",
    "pred = make_onehot(pred, 3)\n",
    "print('Точность классификации на общей обучающей выборке - {}% !'.format(round(accuracy_metrics(pred, TrainY)*100,2)))"
   ]
  },
  {
   "cell_type": "code",
   "execution_count": 139,
   "metadata": {},
   "outputs": [
    {
     "name": "stdout",
     "output_type": "stream",
     "text": [
      "Точность классификации на тестовой выборке - 100.0% !\n"
     ]
    }
   ],
   "source": [
    "pred = best_model.predict(TestX)\n",
    "pred = make_onehot(pred, 3)\n",
    "print('Точность классификации на тестовой выборке - {}% !'.format(round(accuracy_metrics(pred, TestY)*100,2)))"
   ]
  },
  {
   "cell_type": "markdown",
   "metadata": {},
   "source": [
    "### Оптимизация гипер-параметров сети"
   ]
  },
  {
   "cell_type": "markdown",
   "metadata": {},
   "source": [
    "В процессе построения модели возникает множество параметров сети, которые можно варьировать и тем самым менять качество работы сети. Часто для поиска этих параметров в небольших моделях используют полный перебор вариантов в определенных границах, например ищут лучшее значение скорости обучения между 0.0001 и 1.0. При этом выбриается метрика качества и оценивается ее значение на отложенной выборке (validation set). Значения гипер-параметров лучшей модели сохраняются. Неизбежно при большом числе параметров происходит переобучение на validation set и для контроля следует смотреть качество на test set."
   ]
  },
  {
   "cell_type": "markdown",
   "metadata": {},
   "source": [
    "Составим словарь: \n",
    "- parameter - значение параметра сети, которое мы будем варьировать и искать лучшее значение,\n",
    "- start - начальное значение, end - наибольшее значение,\n",
    "- points - число значений между (включительно) этими границами, \n",
    "- log (еще не имплементировано) - поиск по логарифмической шкале, вместо обычной,\n",
    "- int - целочисленное значение.\n",
    "\n",
    "В итоге наш перебор составит: (число разных параметров сети * число точек из диапазона). Обычно это довольно много и ресурсо-затратно. Помните: каждый раз нам придется обучить с этими параметрами сеть и оценить ее производительность."
   ]
  },
  {
   "cell_type": "code",
   "execution_count": 142,
   "metadata": {
    "collapsed": true
   },
   "outputs": [],
   "source": [
    "grid_dict =[\n",
    "{\n",
    "    'parameter': 'learning_rate',\n",
    "    'start': 0.001,\n",
    "    'end': 1.,\n",
    "    'points': 5,\n",
    "    'log': False,\n",
    "    'int': False\n",
    "},{\n",
    "    'parameter': 'minibatch_size',\n",
    "    'start': 1,\n",
    "    'end': 256,\n",
    "    'points': 5,\n",
    "    'log': False,\n",
    "    'int': True\n",
    "},\n",
    "#     {\n",
    "#     'parameter': 'eps',\n",
    "#     'start': 0.001,\n",
    "#     'end': 0.01,\n",
    "#     'points': 2,\n",
    "#     'log': False,\n",
    "#     'int': False\n",
    "# },\n",
    "]"
   ]
  },
  {
   "cell_type": "code",
   "execution_count": 143,
   "metadata": {},
   "outputs": [
    {
     "data": {
      "text/plain": [
       "[{'end': 1.0,\n",
       "  'int': False,\n",
       "  'log': False,\n",
       "  'parameter': 'learning_rate',\n",
       "  'points': 5,\n",
       "  'start': 0.001},\n",
       " {'end': 256,\n",
       "  'int': True,\n",
       "  'log': False,\n",
       "  'parameter': 'minibatch_size',\n",
       "  'points': 5,\n",
       "  'start': 1}]"
      ]
     },
     "execution_count": 143,
     "metadata": {},
     "output_type": "execute_result"
    }
   ],
   "source": [
    "grid_dict"
   ]
  },
  {
   "cell_type": "markdown",
   "metadata": {},
   "source": [
    "Опишем функцию выполняющую перебор значений. Она основывается на значении функции потерь на отложенной выборке после обучения на 50-ти эпохах. (Число эпох можно и нужно менять, сейчас задано небольшое число для ускорения перебора)"
   ]
  },
  {
   "cell_type": "code",
   "execution_count": 144,
   "metadata": {
    "collapsed": true
   },
   "outputs": [],
   "source": [
    "from itertools import product\n",
    "def grid_search(model, dictionary, data, labels):\n",
    "    data, labels, val_data, val_labels = train_test_split(data, labels, ratio = 0.8)\n",
    "    num_parameters = len(dictionary)\n",
    "    minimal_loss = 10e9\n",
    "    minimal_dict = {}\n",
    "    linspaces = []\n",
    "    #we'll be saving to this dict best values\n",
    "    for dic in dictionary:\n",
    "        minimal_dict[dic['parameter']] = None\n",
    "        linspaces.append(np.linspace(dic['start'], dic['end'], dic['points']))\n",
    "    iterator = product(*linspaces)\n",
    "    for i in iterator:\n",
    "        model_copy = deepcopy(model)\n",
    "        feed_dict = {}\n",
    "        for j in range(num_parameters):\n",
    "            if dictionary[j]['int']:\n",
    "                feed_dict[dictionary[j]['parameter']] = int(i[j])\n",
    "            else:\n",
    "                feed_dict[dictionary[j]['parameter']] = i[j]\n",
    "        model_copy.fit(data, labels, num_epochs=50, **feed_dict)\n",
    "        val_pred = model_copy.propagate_forward(np.transpose(val_data))\n",
    "        val_loss = cross_entropy_log_loss(val_pred, np.transpose(val_labels))\n",
    "        if val_loss < minimal_loss:\n",
    "            minimal_loss = val_loss\n",
    "            minimal_dict = feed_dict\n",
    "    return (minimal_loss, minimal_dict)"
   ]
  },
  {
   "cell_type": "code",
   "execution_count": 149,
   "metadata": {
    "collapsed": true
   },
   "outputs": [],
   "source": [
    "a = MLP(4, [10, 5, 3], ['sigm','sigm','sigm'])"
   ]
  },
  {
   "cell_type": "code",
   "execution_count": 150,
   "metadata": {},
   "outputs": [],
   "source": [
    "mloss, mdict = grid_search(a, grid_dict, TrainX, TrainY)"
   ]
  },
  {
   "cell_type": "code",
   "execution_count": 151,
   "metadata": {},
   "outputs": [
    {
     "name": "stdout",
     "output_type": "stream",
     "text": [
      "0.13150557014410855 {'learning_rate': 0.25075, 'minibatch_size': 1}\n"
     ]
    }
   ],
   "source": [
    "print(mloss, mdict)"
   ]
  },
  {
   "cell_type": "code",
   "execution_count": 152,
   "metadata": {},
   "outputs": [
    {
     "name": "stdout",
     "output_type": "stream",
     "text": [
      "loss on iteration 0 = 0.35927\n",
      "Accuracy on train: 35.83%\n",
      "--------------------\n"
     ]
    },
    {
     "data": {
      "image/png": "[encoded data removed]",
      "text/plain": [
       "<matplotlib.figure.Figure at 0x114e512e8>"
      ]
     },
     "metadata": {},
     "output_type": "display_data"
    }
   ],
   "source": [
    "a.fit(TrainX, TrainY, num_epochs=10000, eps=0.001, validation=False, visualize=True, **mdict)"
   ]
  },
  {
   "cell_type": "markdown",
   "metadata": {},
   "source": [
    "Последний этап оценки качества сети - это ее показатель на тестовой выборке."
   ]
  },
  {
   "cell_type": "code",
   "execution_count": 157,
   "metadata": {
    "collapsed": true
   },
   "outputs": [],
   "source": [
    "pred = a.predict(TestX)"
   ]
  },
  {
   "cell_type": "code",
   "execution_count": 158,
   "metadata": {},
   "outputs": [],
   "source": [
    "pred = make_onehot(pred, 3)"
   ]
  },
  {
   "cell_type": "code",
   "execution_count": 159,
   "metadata": {
    "scrolled": true
   },
   "outputs": [
    {
     "name": "stdout",
     "output_type": "stream",
     "text": [
      "Точность классификации на тестовой выборке - 96.67% !\n"
     ]
    }
   ],
   "source": [
    "print('Точность классификации на тестовой выборке - {}% !'.format(round(accuracy_metrics(pred, TestY)*100,2)))"
   ]
  },
  {
   "cell_type": "code",
   "execution_count": null,
   "metadata": {
    "collapsed": true
   },
   "outputs": [],
   "source": []
  }
 ],
 "metadata": {
  "kernelspec": {
   "display_name": "Python 3",
   "language": "python",
   "name": "python3"
  },
  "language_info": {
   "codemirror_mode": {
    "name": "ipython",
    "version": 3
   },
   "file_extension": ".py",
   "mimetype": "text/x-python",
   "name": "python",
   "nbconvert_exporter": "python",
   "pygments_lexer": "ipython3",
   "version": "3.6.2"
  }
 },
 "nbformat": 4,
 "nbformat_minor": 2
}
